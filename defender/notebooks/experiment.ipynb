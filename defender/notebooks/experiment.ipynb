{
 "cells": [
  {
   "cell_type": "code",
   "execution_count": 63,
   "metadata": {},
   "outputs": [],
   "source": [
    "import os\n",
    "import numpy as np\n",
    "import pandas as pd\n",
    "import matplotlib.pyplot as plt"
   ]
  },
  {
   "cell_type": "code",
   "execution_count": 5,
   "metadata": {},
   "outputs": [
    {
     "data": {
      "text/html": [
       "<div>\n",
       "<style scoped>\n",
       "    .dataframe tbody tr th:only-of-type {\n",
       "        vertical-align: middle;\n",
       "    }\n",
       "\n",
       "    .dataframe tbody tr th {\n",
       "        vertical-align: top;\n",
       "    }\n",
       "\n",
       "    .dataframe thead th {\n",
       "        text-align: right;\n",
       "    }\n",
       "</style>\n",
       "<table border=\"1\" class=\"dataframe\">\n",
       "  <thead>\n",
       "    <tr style=\"text-align: right;\">\n",
       "      <th></th>\n",
       "      <th>FileName</th>\n",
       "      <th>Dataset</th>\n",
       "      <th>Label</th>\n",
       "      <th>y_pred0_0</th>\n",
       "      <th>y_pred0_1</th>\n",
       "      <th>y_pred1</th>\n",
       "      <th>pred1_label</th>\n",
       "      <th>pred0_label</th>\n",
       "    </tr>\n",
       "  </thead>\n",
       "  <tbody>\n",
       "    <tr>\n",
       "      <th>0</th>\n",
       "      <td>mw2_0018</td>\n",
       "      <td>mw2</td>\n",
       "      <td>1</td>\n",
       "      <td>0.014755</td>\n",
       "      <td>0.985245</td>\n",
       "      <td>1.000000</td>\n",
       "      <td>1</td>\n",
       "      <td>1</td>\n",
       "    </tr>\n",
       "    <tr>\n",
       "      <th>1</th>\n",
       "      <td>mw2_0029</td>\n",
       "      <td>mw2</td>\n",
       "      <td>1</td>\n",
       "      <td>0.594453</td>\n",
       "      <td>0.405547</td>\n",
       "      <td>0.996347</td>\n",
       "      <td>1</td>\n",
       "      <td>0</td>\n",
       "    </tr>\n",
       "    <tr>\n",
       "      <th>2</th>\n",
       "      <td>mw2_0003</td>\n",
       "      <td>mw2</td>\n",
       "      <td>1</td>\n",
       "      <td>0.063864</td>\n",
       "      <td>0.936136</td>\n",
       "      <td>0.999998</td>\n",
       "      <td>1</td>\n",
       "      <td>1</td>\n",
       "    </tr>\n",
       "    <tr>\n",
       "      <th>3</th>\n",
       "      <td>mw2_0032</td>\n",
       "      <td>mw2</td>\n",
       "      <td>1</td>\n",
       "      <td>0.048411</td>\n",
       "      <td>0.951589</td>\n",
       "      <td>0.943927</td>\n",
       "      <td>1</td>\n",
       "      <td>1</td>\n",
       "    </tr>\n",
       "    <tr>\n",
       "      <th>4</th>\n",
       "      <td>mw2_0001</td>\n",
       "      <td>mw2</td>\n",
       "      <td>1</td>\n",
       "      <td>0.571765</td>\n",
       "      <td>0.428235</td>\n",
       "      <td>0.773990</td>\n",
       "      <td>1</td>\n",
       "      <td>0</td>\n",
       "    </tr>\n",
       "  </tbody>\n",
       "</table>\n",
       "</div>"
      ],
      "text/plain": [
       "   FileName Dataset  Label  y_pred0_0  y_pred0_1   y_pred1  pred1_label  \\\n",
       "0  mw2_0018     mw2      1   0.014755   0.985245  1.000000            1   \n",
       "1  mw2_0029     mw2      1   0.594453   0.405547  0.996347            1   \n",
       "2  mw2_0003     mw2      1   0.063864   0.936136  0.999998            1   \n",
       "3  mw2_0032     mw2      1   0.048411   0.951589  0.943927            1   \n",
       "4  mw2_0001     mw2      1   0.571765   0.428235  0.773990            1   \n",
       "\n",
       "   pred0_label  \n",
       "0            1  \n",
       "1            0  \n",
       "2            1  \n",
       "3            1  \n",
       "4            0  "
      ]
     },
     "execution_count": 5,
     "metadata": {},
     "output_type": "execute_result"
    }
   ],
   "source": [
    "df = pd.read_csv(\"all_reults_v4.csv\", index_col=0)\n",
    "df.head()"
   ]
  },
  {
   "cell_type": "code",
   "execution_count": 6,
   "metadata": {},
   "outputs": [
    {
     "data": {
      "text/html": [
       "<div>\n",
       "<style scoped>\n",
       "    .dataframe tbody tr th:only-of-type {\n",
       "        vertical-align: middle;\n",
       "    }\n",
       "\n",
       "    .dataframe tbody tr th {\n",
       "        vertical-align: top;\n",
       "    }\n",
       "\n",
       "    .dataframe thead th {\n",
       "        text-align: right;\n",
       "    }\n",
       "</style>\n",
       "<table border=\"1\" class=\"dataframe\">\n",
       "  <thead>\n",
       "    <tr style=\"text-align: right;\">\n",
       "      <th></th>\n",
       "      <th>Accuracy_pred0</th>\n",
       "      <th>Accuracy_pred1</th>\n",
       "    </tr>\n",
       "    <tr>\n",
       "      <th>Dataset</th>\n",
       "      <th></th>\n",
       "      <th></th>\n",
       "    </tr>\n",
       "  </thead>\n",
       "  <tbody>\n",
       "    <tr>\n",
       "      <th>gw2</th>\n",
       "      <td>0.588235</td>\n",
       "      <td>0.529412</td>\n",
       "    </tr>\n",
       "    <tr>\n",
       "      <th>gw3</th>\n",
       "      <td>0.741379</td>\n",
       "      <td>0.603448</td>\n",
       "    </tr>\n",
       "    <tr>\n",
       "      <th>gw4</th>\n",
       "      <td>0.734694</td>\n",
       "      <td>0.591837</td>\n",
       "    </tr>\n",
       "    <tr>\n",
       "      <th>gw5</th>\n",
       "      <td>0.780822</td>\n",
       "      <td>0.287671</td>\n",
       "    </tr>\n",
       "    <tr>\n",
       "      <th>gw6</th>\n",
       "      <td>0.987805</td>\n",
       "      <td>0.963415</td>\n",
       "    </tr>\n",
       "    <tr>\n",
       "      <th>mw1</th>\n",
       "      <td>0.416667</td>\n",
       "      <td>0.750000</td>\n",
       "    </tr>\n",
       "    <tr>\n",
       "      <th>mw2</th>\n",
       "      <td>0.880000</td>\n",
       "      <td>0.860000</td>\n",
       "    </tr>\n",
       "    <tr>\n",
       "      <th>mw3</th>\n",
       "      <td>0.700000</td>\n",
       "      <td>0.700000</td>\n",
       "    </tr>\n",
       "    <tr>\n",
       "      <th>mw4</th>\n",
       "      <td>0.862069</td>\n",
       "      <td>0.724138</td>\n",
       "    </tr>\n",
       "    <tr>\n",
       "      <th>mw5</th>\n",
       "      <td>0.931034</td>\n",
       "      <td>0.413793</td>\n",
       "    </tr>\n",
       "    <tr>\n",
       "      <th>mw6</th>\n",
       "      <td>0.896552</td>\n",
       "      <td>0.517241</td>\n",
       "    </tr>\n",
       "    <tr>\n",
       "      <th>mw7</th>\n",
       "      <td>0.960000</td>\n",
       "      <td>0.680000</td>\n",
       "    </tr>\n",
       "    <tr>\n",
       "      <th>mw8</th>\n",
       "      <td>0.900000</td>\n",
       "      <td>0.640000</td>\n",
       "    </tr>\n",
       "  </tbody>\n",
       "</table>\n",
       "</div>"
      ],
      "text/plain": [
       "         Accuracy_pred0  Accuracy_pred1\n",
       "Dataset                                \n",
       "gw2            0.588235        0.529412\n",
       "gw3            0.741379        0.603448\n",
       "gw4            0.734694        0.591837\n",
       "gw5            0.780822        0.287671\n",
       "gw6            0.987805        0.963415\n",
       "mw1            0.416667        0.750000\n",
       "mw2            0.880000        0.860000\n",
       "mw3            0.700000        0.700000\n",
       "mw4            0.862069        0.724138\n",
       "mw5            0.931034        0.413793\n",
       "mw6            0.896552        0.517241\n",
       "mw7            0.960000        0.680000\n",
       "mw8            0.900000        0.640000"
      ]
     },
     "execution_count": 6,
     "metadata": {},
     "output_type": "execute_result"
    }
   ],
   "source": [
    "def calculate_accuracy(group):\n",
    "    acc_pred0 = (group['pred0_label'] == group['Label']).mean()\n",
    "    acc_pred1 = (group['pred1_label'] == group['Label']).mean()\n",
    "    return pd.Series({'Accuracy_pred0': acc_pred0, 'Accuracy_pred1': acc_pred1 })\n",
    "\n",
    "# Group by 'Dataset' and apply the accuracy function\n",
    "accuracy_results = df.groupby('Dataset').apply(calculate_accuracy)\n",
    "accuracy_results"
   ]
  },
  {
   "cell_type": "markdown",
   "metadata": {},
   "source": [
    "Generally, the result shows that random forest outperforms malconv in most testsets. It is reasonable as random forest is trained with much larger dataset and its non-linearity nature fits malware detection better. But in malware 1 testsets, malconv gets much higher accuracy. Next, we are going to examine the result in details and design pipeline to intergrate the benefits of both models"
   ]
  },
  {
   "cell_type": "code",
   "execution_count": 7,
   "metadata": {},
   "outputs": [],
   "source": [
    "# Adding columns for correctness\n",
    "df['correct_pred0'] = (df['pred0_label'] == df['Label']).astype(int)\n",
    "df['correct_pred1'] = (df['pred1_label'] == df['Label']).astype(int)"
   ]
  },
  {
   "cell_type": "code",
   "execution_count": 69,
   "metadata": {},
   "outputs": [],
   "source": [
    "both_correct = df[(df['pred0_label'] == df['pred1_label']) & (df['pred0_label'] == df['Label'])]\n",
    "pred0_correct = df[(df['pred0_label'] != df['pred1_label']) & (df['pred0_label'] == df['Label'])]\n",
    "pred1_correct = df[(df['pred0_label'] != df['pred1_label']) & (df['pred1_label'] == df['Label'])]\n",
    "both_incorrect = df[(df['pred0_label'] == df['pred1_label']) & (df['pred0_label'] != df['Label'])]\n"
   ]
  },
  {
   "cell_type": "code",
   "execution_count": 70,
   "metadata": {},
   "outputs": [
    {
     "name": "stdout",
     "output_type": "stream",
     "text": [
      "Count\n",
      "Both correct : 349\n",
      "Both correct : 65\n",
      "RF correct : 145\n",
      "Malconv correct : 41\n"
     ]
    }
   ],
   "source": [
    "print(\"Count\")\n",
    "print(f\"Both correct : {both_correct.shape[0]}\")\n",
    "print(f\"Both correct : {both_incorrect.shape[0]}\")\n",
    "print(f\"RF correct : {pred0_correct.shape[0]}\")\n",
    "print(f\"Malconv correct : {pred1_correct.shape[0]}\")"
   ]
  },
  {
   "cell_type": "code",
   "execution_count": 72,
   "metadata": {},
   "outputs": [],
   "source": [
    "# Percentage of samples that are predicted correctly by both models\n",
    "both_correct_p = both_correct.groupby('Dataset').count()['Label'] / df.groupby('Dataset').count()['Label']\n",
    "both_incorrect_p = both_incorrect.groupby('Dataset').count()['Label'] / df.groupby('Dataset').count()['Label']\n",
    "# both_correct_p"
   ]
  },
  {
   "cell_type": "code",
   "execution_count": 60,
   "metadata": {},
   "outputs": [],
   "source": [
    "# Percentage of samples that are predicted correctly by RF\n",
    "pred0_correct_p = pred0_correct.groupby('Dataset').count()['Label'] / df.groupby('Dataset').count()['Label']\n",
    "# pred0_correct_p"
   ]
  },
  {
   "cell_type": "code",
   "execution_count": 61,
   "metadata": {},
   "outputs": [],
   "source": [
    "pred1_correct_p = pred1_correct.groupby('Dataset').count()['Label'] / df.groupby('Dataset').count()['Label']\n",
    "# pred1_correct_p"
   ]
  },
  {
   "cell_type": "code",
   "execution_count": 77,
   "metadata": {},
   "outputs": [],
   "source": [
    "data = pd.DataFrame({\n",
    "    'Both Correct': both_correct_p,\n",
    "    'Pred0 Correct': pred0_correct_p,\n",
    "    'Pred1 Correct': pred1_correct_p,\n",
    "    'Both Incorrect': both_incorrect_p\n",
    "})"
   ]
  },
  {
   "cell_type": "code",
   "execution_count": 78,
   "metadata": {},
   "outputs": [
    {
     "data": {
      "image/png": "[encoded data removed]",
      "text/plain": [
       "<Figure size 720x504 with 1 Axes>"
      ]
     },
     "metadata": {
      "needs_background": "light"
     },
     "output_type": "display_data"
    }
   ],
   "source": [
    "# Plotting\n",
    "ax = data.plot(kind='bar', stacked=True, figsize=(10, 7), color=['#1f77b4','#2ca02c','#ff7f0e','#d62728'])\n",
    "\n",
    "# Adding titles and labels\n",
    "plt.title('Proportion of Correct Predictions by Dataset')\n",
    "plt.xlabel('Dataset')\n",
    "plt.ylabel('Proportion Correct')\n",
    "\n",
    "# Show the plot\n",
    "plt.show()\n"
   ]
  },
  {
   "cell_type": "code",
   "execution_count": null,
   "metadata": {},
   "outputs": [],
   "source": []
  }
 ],
 "metadata": {
  "kernelspec": {
   "display_name": "ember",
   "language": "python",
   "name": "python3"
  },
  "language_info": {
   "codemirror_mode": {
    "name": "ipython",
    "version": 3
   },
   "file_extension": ".py",
   "mimetype": "text/x-python",
   "name": "python",
   "nbconvert_exporter": "python",
   "pygments_lexer": "ipython3",
   "version": "3.6.15"
  }
 },
 "nbformat": 4,
 "nbformat_minor": 2
}
